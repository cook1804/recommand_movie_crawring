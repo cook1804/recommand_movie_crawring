{
  "nbformat": 4,
  "nbformat_minor": 0,
  "metadata": {
    "colab": {
      "name": "추천시스템기본.ipynb",
      "private_outputs": true,
      "provenance": [],
      "collapsed_sections": []
    },
    "kernelspec": {
      "name": "python3",
      "display_name": "Python 3"
    },
    "language_info": {
      "name": "python"
    }
  },
  "cells": [
    {
      "cell_type": "code",
      "metadata": {
        "id": "dP1oLs6zXQnP"
      },
      "source": [
        "import os\n",
        "from tqdm import tqdm\n",
        "import pandas as pd\n",
        "import numpy as np\n",
        "\n",
        "from sklearn.model_selection import train_test_split\n",
        "from sklearn.metrics import mean_squared_error\n",
        "\n",
        "import warnings\n",
        "warnings.filterwarnings('ignore')"
      ],
      "execution_count": null,
      "outputs": []
    },
    {
      "cell_type": "markdown",
      "metadata": {
        "id": "Jx5SPSbxZL0D"
      },
      "source": [
        "### 1.MovieLens 데이터 셋 불러오기"
      ]
    },
    {
      "cell_type": "code",
      "metadata": {
        "id": "wqN96M4FZSQa"
      },
      "source": [
        "path=\"/content/drive/MyDrive/Colab Notebooks/movielens/\""
      ],
      "execution_count": null,
      "outputs": []
    },
    {
      "cell_type": "code",
      "metadata": {
        "id": "LLEniI3PZzkS"
      },
      "source": [
        "ratings_df = pd.read_csv(os.path.join(path, 'ratings.csv'), encoding='utf-8')\n",
        "movies_df = pd.read_csv(os.path.join(path, 'movies.csv'), index_col = 'movieId', encoding='utf-8')\n",
        "tags_df = pd.read_csv(os.path.join(path, 'tags.csv'), encoding='utf-8')"
      ],
      "execution_count": null,
      "outputs": []
    },
    {
      "cell_type": "code",
      "metadata": {
        "id": "CRNRcIZiacfL"
      },
      "source": [
        "# print(ratings_df)\n",
        "print(ratings_df.shape)\n",
        "print(ratings_df.info())\n",
        "ratings_df"
      ],
      "execution_count": null,
      "outputs": []
    },
    {
      "cell_type": "code",
      "metadata": {
        "id": "hVvIndYna4iy"
      },
      "source": [
        "len(set(ratings_df['userId']))\n",
        "num_users = ratings_df['userId'].unique()\n",
        "num_movies = ratings_df['movieId'].unique()\n",
        "\n",
        "print(len(num_users), len(num_movies))"
      ],
      "execution_count": null,
      "outputs": []
    },
    {
      "cell_type": "code",
      "metadata": {
        "id": "Yo6ynK4TcsYa"
      },
      "source": [
        "user_movie_matrix = ratings_df.pivot(index='movieId', columns= 'userId', values='rating').fillna(0)\n",
        "user_movie_matrix"
      ],
      "execution_count": null,
      "outputs": []
    },
    {
      "cell_type": "code",
      "metadata": {
        "id": "i6_fM4LniBSI"
      },
      "source": [
        "user_info_df = pd.DataFrame(data = [sum(list(user_movie_matrix[int(x)].value_counts())[1:]) for x in user_movie_matrix.columns],\n",
        "                           index = user_movie_matrix.columns, columns=['movies_rated'])\n",
        "user_info_df"
      ],
      "execution_count": null,
      "outputs": []
    },
    {
      "cell_type": "code",
      "metadata": {
        "id": "Ogn2RtfDn62d"
      },
      "source": [
        "movie_info_df = pd.DataFrame(data = [sum(list(user_movie_matrix.loc[int(x)].value_counts())[1:]) for x in user_movie_matrix.index],\n",
        "                           index = user_movie_matrix.index, columns=['users_rated'])\n",
        "movie_info_df"
      ],
      "execution_count": null,
      "outputs": []
    },
    {
      "cell_type": "code",
      "metadata": {
        "id": "HfpyYihirI40"
      },
      "source": [
        "ratings_df"
      ],
      "execution_count": null,
      "outputs": []
    },
    {
      "cell_type": "code",
      "metadata": {
        "id": "NOMCIWo7sLda"
      },
      "source": [
        "\n",
        "# train_test_split\n",
        "train_df, test_df = train_test_split(ratings_df, test_size=0.2, random_state=1234)"
      ],
      "execution_count": null,
      "outputs": []
    },
    {
      "cell_type": "code",
      "metadata": {
        "id": "lCXZ46FRu-ya"
      },
      "source": [
        "print(train_df.shape,test_df.shape)"
      ],
      "execution_count": null,
      "outputs": []
    },
    {
      "cell_type": "markdown",
      "metadata": {
        "id": "QApjj3b7tnU7"
      },
      "source": [
        "### test set에는 존재하지만, train set에는 없는 영화 또는 사용자 비율"
      ]
    },
    {
      "cell_type": "code",
      "metadata": {
        "id": "cSynXJpFtzNz"
      },
      "source": [
        "len(set(test_df['userId'].unique()) - set(train_df['userId'].unique()))"
      ],
      "execution_count": null,
      "outputs": []
    },
    {
      "cell_type": "code",
      "metadata": {
        "id": "4CdIgjCsuhkx"
      },
      "source": [
        "print(f\"시용자 : {len(set(test_df['userId'].unique()) - set(train_df['userId'].unique()))}\")\n",
        "print(f\"시용자 : {len(set(test_df['movieId'].unique()) - set(train_df['movieId'].unique()))}\")\n",
        "print(f\"테스트셋의 전체 영화 수: {len(test_df['movieId'].unique())}\")"
      ],
      "execution_count": null,
      "outputs": []
    },
    {
      "cell_type": "code",
      "metadata": {
        "id": "nBH1oayDwGAc"
      },
      "source": [
        "print(f\"시용자 : {len(list(set(train_df['movieId'].unique()) - set(test_df['movieId'].unique())))}\")"
      ],
      "execution_count": null,
      "outputs": []
    },
    {
      "cell_type": "code",
      "metadata": {
        "id": "y5dnMvTTwWvY"
      },
      "source": [
        ""
      ],
      "execution_count": null,
      "outputs": []
    },
    {
      "cell_type": "markdown",
      "metadata": {
        "id": "xtY_4eSzwaTl"
      },
      "source": [
        "## 2.간단한 추천 알고리즘 만들기\n",
        "##### 1. 랜덤으로 평점예측  "
      ]
    },
    {
      "cell_type": "code",
      "metadata": {
        "id": "B7t73YsXwzFw"
      },
      "source": [
        " ratings_range= np.arange(0.5, 5.5, step=0.5)"
      ],
      "execution_count": null,
      "outputs": []
    },
    {
      "cell_type": "code",
      "metadata": {
        "id": "xinRT4kMxXUw"
      },
      "source": [
        "import random\n",
        "pred_random = [random.choice(ratings_range) for x in range(len(test_df))]\n",
        "pred_random"
      ],
      "execution_count": null,
      "outputs": []
    },
    {
      "cell_type": "code",
      "metadata": {
        "id": "fl9NiBRvxpH4"
      },
      "source": [
        "test_df['pred_ratings_random'] = pred_random\n",
        "test_df"
      ],
      "execution_count": null,
      "outputs": []
    },
    {
      "cell_type": "code",
      "metadata": {
        "id": "Kd5FTr3IzSWu"
      },
      "source": [
        "# mse 구하기\n",
        "mse = mean_squared_error(test_df['rating'].values,test_df['pred_ratings_random'].values)\n",
        "rmse = np.sqrt(mse)\n",
        "\n",
        "print(mse, rmse)"
      ],
      "execution_count": null,
      "outputs": []
    },
    {
      "cell_type": "markdown",
      "metadata": {
        "id": "4E6L4pUs20Io"
      },
      "source": [
        "## 2. 사용자 평균 평점을 기반으로 예측"
      ]
    },
    {
      "cell_type": "code",
      "metadata": {
        "id": "ADQ4X1jE246l"
      },
      "source": [
        "train_user_df = train_df.groupby('userId').mean()\n",
        "\n",
        "print(train_user_df.shape)\n",
        "print(train_user_df.head())"
      ],
      "execution_count": null,
      "outputs": []
    },
    {
      "cell_type": "code",
      "metadata": {
        "id": "WSvNpZg24Xv2"
      },
      "source": [
        "def avg_rating_prediction(train_set, x):\n",
        "    if x in train_set.index:\n",
        "        pred_rating = train_set.loc[x]['rating']\n",
        "    else:\n",
        "        pred_rating = random.choice(ratings_range)\n",
        "    return pred_rating"
      ],
      "execution_count": null,
      "outputs": []
    },
    {
      "cell_type": "code",
      "metadata": {
        "id": "MTt5hqev3Q7N"
      },
      "source": [
        "test_df['pred_rating_user'] = test_df['userId'].apply(lambda x : avg_rating_prediction(train_user_df, x))"
      ],
      "execution_count": null,
      "outputs": []
    },
    {
      "cell_type": "code",
      "metadata": {
        "id": "l9f2shbT5pYD"
      },
      "source": [
        "test_df"
      ],
      "execution_count": null,
      "outputs": []
    },
    {
      "cell_type": "code",
      "metadata": {
        "id": "KfUGKu1t5uY6"
      },
      "source": [
        "## 3. 영화 평균 평점을 기반으로 예측"
      ],
      "execution_count": null,
      "outputs": []
    },
    {
      "cell_type": "code",
      "metadata": {
        "id": "NtWmyG4E54I4"
      },
      "source": [
        "train_movie_df = train_df.groupby('movieId').mean()\n",
        "test_df['pred_rating_movie'] = test_df['movieId'].apply(lambda x : avg_rating_prediction(train_movie_df, x))\n",
        "test_df"
      ],
      "execution_count": null,
      "outputs": []
    },
    {
      "cell_type": "code",
      "metadata": {
        "id": "Oby7Ac6J6Y5E"
      },
      "source": [
        "mse_user = mean_squared_error(test_df['rating'].values, test_df['pred_rating_user'].values)\n",
        "rmse_user = np.sqrt(mse_user)\n",
        "print(mse_user, rmse_user)\n",
        "\n",
        "mse_movie = mean_squared_error(test_df['rating'].values, test_df['pred_rating_movie'].values)\n",
        "rmse_movie = np.sqrt(mse_movie)\n",
        "print(mse_movie, rmse_movie)"
      ],
      "execution_count": null,
      "outputs": []
    },
    {
      "cell_type": "code",
      "metadata": {
        "id": "qaeuOi42EIi-"
      },
      "source": [
        ""
      ],
      "execution_count": null,
      "outputs": []
    }
  ]
}